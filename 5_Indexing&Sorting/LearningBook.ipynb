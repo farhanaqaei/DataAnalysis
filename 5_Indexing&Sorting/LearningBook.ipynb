{
 "cells": [
  {
   "cell_type": "code",
   "execution_count": 1,
   "id": "821aa67b-0e3d-4295-9d31-ccbd53810068",
   "metadata": {},
   "outputs": [],
   "source": [
    "import pandas as pd"
   ]
  },
  {
   "cell_type": "code",
   "execution_count": 5,
   "id": "33fe63cf-6a40-4594-bc4b-91c6dfbfd6ac",
   "metadata": {},
   "outputs": [],
   "source": [
    "btc = pd.read_csv(\"../data/coin_Bitcoin.csv\")"
   ]
  },
  {
   "cell_type": "code",
   "execution_count": 7,
   "id": "72cc1403-6797-4972-a878-7279e0ceee35",
   "metadata": {},
   "outputs": [
    {
     "data": {
      "text/plain": [
       "RangeIndex(start=0, stop=2991, step=1)"
      ]
     },
     "execution_count": 7,
     "metadata": {},
     "output_type": "execute_result"
    }
   ],
   "source": [
    "btc.index"
   ]
  },
  {
   "cell_type": "code",
   "execution_count": 9,
   "id": "555ac348-ac99-44d6-80ee-5a4f0855d641",
   "metadata": {},
   "outputs": [
    {
     "name": "stdout",
     "output_type": "stream",
     "text": [
      "<class 'pandas.core.frame.DataFrame'>\n",
      "RangeIndex: 2991 entries, 0 to 2990\n",
      "Data columns (total 10 columns):\n",
      " #   Column     Non-Null Count  Dtype  \n",
      "---  ------     --------------  -----  \n",
      " 0   SNo        2991 non-null   int64  \n",
      " 1   Name       2991 non-null   object \n",
      " 2   Symbol     2991 non-null   object \n",
      " 3   Date       2991 non-null   object \n",
      " 4   High       2991 non-null   float64\n",
      " 5   Low        2991 non-null   float64\n",
      " 6   Open       2991 non-null   float64\n",
      " 7   Close      2991 non-null   float64\n",
      " 8   Volume     2991 non-null   float64\n",
      " 9   Marketcap  2991 non-null   float64\n",
      "dtypes: float64(6), int64(1), object(3)\n",
      "memory usage: 233.8+ KB\n"
     ]
    }
   ],
   "source": [
    "btc.info()"
   ]
  },
  {
   "cell_type": "code",
   "execution_count": 11,
   "id": "5f9d2db0-802b-4377-b46a-42d6d5a477d1",
   "metadata": {},
   "outputs": [
    {
     "data": {
      "text/plain": [
       "0         147.488007\n",
       "1         146.929993\n",
       "2         139.889999\n",
       "3         125.599998\n",
       "4         108.127998\n",
       "            ...     \n",
       "2986    33939.588699\n",
       "2987    34909.259899\n",
       "2988    35937.567147\n",
       "2989    35284.344430\n",
       "2990    35038.536363\n",
       "Name: High, Length: 2991, dtype: float64"
      ]
     },
     "execution_count": 11,
     "metadata": {},
     "output_type": "execute_result"
    }
   ],
   "source": [
    "btc.High"
   ]
  },
  {
   "cell_type": "code",
   "execution_count": 15,
   "id": "deda3fb0-c1d4-47f6-86ac-16ee1cb823f3",
   "metadata": {},
   "outputs": [],
   "source": [
    "btc.set_index(\"Date\", inplace=True)"
   ]
  },
  {
   "cell_type": "code",
   "execution_count": 17,
   "id": "55041a47-358e-4eed-99e7-dc009964796e",
   "metadata": {},
   "outputs": [
    {
     "data": {
      "text/html": [
       "<div>\n",
       "<style scoped>\n",
       "    .dataframe tbody tr th:only-of-type {\n",
       "        vertical-align: middle;\n",
       "    }\n",
       "\n",
       "    .dataframe tbody tr th {\n",
       "        vertical-align: top;\n",
       "    }\n",
       "\n",
       "    .dataframe thead th {\n",
       "        text-align: right;\n",
       "    }\n",
       "</style>\n",
       "<table border=\"1\" class=\"dataframe\">\n",
       "  <thead>\n",
       "    <tr style=\"text-align: right;\">\n",
       "      <th></th>\n",
       "      <th>SNo</th>\n",
       "      <th>Name</th>\n",
       "      <th>Symbol</th>\n",
       "      <th>High</th>\n",
       "      <th>Low</th>\n",
       "      <th>Open</th>\n",
       "      <th>Close</th>\n",
       "      <th>Volume</th>\n",
       "      <th>Marketcap</th>\n",
       "    </tr>\n",
       "    <tr>\n",
       "      <th>Date</th>\n",
       "      <th></th>\n",
       "      <th></th>\n",
       "      <th></th>\n",
       "      <th></th>\n",
       "      <th></th>\n",
       "      <th></th>\n",
       "      <th></th>\n",
       "      <th></th>\n",
       "      <th></th>\n",
       "    </tr>\n",
       "  </thead>\n",
       "  <tbody>\n",
       "    <tr>\n",
       "      <th>2013-04-29 23:59:59</th>\n",
       "      <td>1</td>\n",
       "      <td>Bitcoin</td>\n",
       "      <td>BTC</td>\n",
       "      <td>147.488007</td>\n",
       "      <td>134.000000</td>\n",
       "      <td>134.444000</td>\n",
       "      <td>144.539993</td>\n",
       "      <td>0.000000e+00</td>\n",
       "      <td>1.603769e+09</td>\n",
       "    </tr>\n",
       "    <tr>\n",
       "      <th>2013-04-30 23:59:59</th>\n",
       "      <td>2</td>\n",
       "      <td>Bitcoin</td>\n",
       "      <td>BTC</td>\n",
       "      <td>146.929993</td>\n",
       "      <td>134.050003</td>\n",
       "      <td>144.000000</td>\n",
       "      <td>139.000000</td>\n",
       "      <td>0.000000e+00</td>\n",
       "      <td>1.542813e+09</td>\n",
       "    </tr>\n",
       "    <tr>\n",
       "      <th>2013-05-01 23:59:59</th>\n",
       "      <td>3</td>\n",
       "      <td>Bitcoin</td>\n",
       "      <td>BTC</td>\n",
       "      <td>139.889999</td>\n",
       "      <td>107.720001</td>\n",
       "      <td>139.000000</td>\n",
       "      <td>116.989998</td>\n",
       "      <td>0.000000e+00</td>\n",
       "      <td>1.298955e+09</td>\n",
       "    </tr>\n",
       "    <tr>\n",
       "      <th>2013-05-02 23:59:59</th>\n",
       "      <td>4</td>\n",
       "      <td>Bitcoin</td>\n",
       "      <td>BTC</td>\n",
       "      <td>125.599998</td>\n",
       "      <td>92.281898</td>\n",
       "      <td>116.379997</td>\n",
       "      <td>105.209999</td>\n",
       "      <td>0.000000e+00</td>\n",
       "      <td>1.168517e+09</td>\n",
       "    </tr>\n",
       "    <tr>\n",
       "      <th>2013-05-03 23:59:59</th>\n",
       "      <td>5</td>\n",
       "      <td>Bitcoin</td>\n",
       "      <td>BTC</td>\n",
       "      <td>108.127998</td>\n",
       "      <td>79.099998</td>\n",
       "      <td>106.250000</td>\n",
       "      <td>97.750000</td>\n",
       "      <td>0.000000e+00</td>\n",
       "      <td>1.085995e+09</td>\n",
       "    </tr>\n",
       "    <tr>\n",
       "      <th>...</th>\n",
       "      <td>...</td>\n",
       "      <td>...</td>\n",
       "      <td>...</td>\n",
       "      <td>...</td>\n",
       "      <td>...</td>\n",
       "      <td>...</td>\n",
       "      <td>...</td>\n",
       "      <td>...</td>\n",
       "      <td>...</td>\n",
       "    </tr>\n",
       "    <tr>\n",
       "      <th>2021-07-02 23:59:59</th>\n",
       "      <td>2987</td>\n",
       "      <td>Bitcoin</td>\n",
       "      <td>BTC</td>\n",
       "      <td>33939.588699</td>\n",
       "      <td>32770.680780</td>\n",
       "      <td>33549.600177</td>\n",
       "      <td>33897.048590</td>\n",
       "      <td>3.872897e+10</td>\n",
       "      <td>6.354508e+11</td>\n",
       "    </tr>\n",
       "    <tr>\n",
       "      <th>2021-07-03 23:59:59</th>\n",
       "      <td>2988</td>\n",
       "      <td>Bitcoin</td>\n",
       "      <td>BTC</td>\n",
       "      <td>34909.259899</td>\n",
       "      <td>33402.696536</td>\n",
       "      <td>33854.421362</td>\n",
       "      <td>34668.548402</td>\n",
       "      <td>2.438396e+10</td>\n",
       "      <td>6.499397e+11</td>\n",
       "    </tr>\n",
       "    <tr>\n",
       "      <th>2021-07-04 23:59:59</th>\n",
       "      <td>2989</td>\n",
       "      <td>Bitcoin</td>\n",
       "      <td>BTC</td>\n",
       "      <td>35937.567147</td>\n",
       "      <td>34396.477458</td>\n",
       "      <td>34665.564866</td>\n",
       "      <td>35287.779766</td>\n",
       "      <td>2.492431e+10</td>\n",
       "      <td>6.615748e+11</td>\n",
       "    </tr>\n",
       "    <tr>\n",
       "      <th>2021-07-05 23:59:59</th>\n",
       "      <td>2990</td>\n",
       "      <td>Bitcoin</td>\n",
       "      <td>BTC</td>\n",
       "      <td>35284.344430</td>\n",
       "      <td>33213.661034</td>\n",
       "      <td>35284.344430</td>\n",
       "      <td>33746.002456</td>\n",
       "      <td>2.672155e+10</td>\n",
       "      <td>6.326962e+11</td>\n",
       "    </tr>\n",
       "    <tr>\n",
       "      <th>2021-07-06 23:59:59</th>\n",
       "      <td>2991</td>\n",
       "      <td>Bitcoin</td>\n",
       "      <td>BTC</td>\n",
       "      <td>35038.536363</td>\n",
       "      <td>33599.916169</td>\n",
       "      <td>33723.509655</td>\n",
       "      <td>34235.193451</td>\n",
       "      <td>2.650126e+10</td>\n",
       "      <td>6.418992e+11</td>\n",
       "    </tr>\n",
       "  </tbody>\n",
       "</table>\n",
       "<p>2991 rows × 9 columns</p>\n",
       "</div>"
      ],
      "text/plain": [
       "                      SNo     Name Symbol          High           Low  \\\n",
       "Date                                                                    \n",
       "2013-04-29 23:59:59     1  Bitcoin    BTC    147.488007    134.000000   \n",
       "2013-04-30 23:59:59     2  Bitcoin    BTC    146.929993    134.050003   \n",
       "2013-05-01 23:59:59     3  Bitcoin    BTC    139.889999    107.720001   \n",
       "2013-05-02 23:59:59     4  Bitcoin    BTC    125.599998     92.281898   \n",
       "2013-05-03 23:59:59     5  Bitcoin    BTC    108.127998     79.099998   \n",
       "...                   ...      ...    ...           ...           ...   \n",
       "2021-07-02 23:59:59  2987  Bitcoin    BTC  33939.588699  32770.680780   \n",
       "2021-07-03 23:59:59  2988  Bitcoin    BTC  34909.259899  33402.696536   \n",
       "2021-07-04 23:59:59  2989  Bitcoin    BTC  35937.567147  34396.477458   \n",
       "2021-07-05 23:59:59  2990  Bitcoin    BTC  35284.344430  33213.661034   \n",
       "2021-07-06 23:59:59  2991  Bitcoin    BTC  35038.536363  33599.916169   \n",
       "\n",
       "                             Open         Close        Volume     Marketcap  \n",
       "Date                                                                         \n",
       "2013-04-29 23:59:59    134.444000    144.539993  0.000000e+00  1.603769e+09  \n",
       "2013-04-30 23:59:59    144.000000    139.000000  0.000000e+00  1.542813e+09  \n",
       "2013-05-01 23:59:59    139.000000    116.989998  0.000000e+00  1.298955e+09  \n",
       "2013-05-02 23:59:59    116.379997    105.209999  0.000000e+00  1.168517e+09  \n",
       "2013-05-03 23:59:59    106.250000     97.750000  0.000000e+00  1.085995e+09  \n",
       "...                           ...           ...           ...           ...  \n",
       "2021-07-02 23:59:59  33549.600177  33897.048590  3.872897e+10  6.354508e+11  \n",
       "2021-07-03 23:59:59  33854.421362  34668.548402  2.438396e+10  6.499397e+11  \n",
       "2021-07-04 23:59:59  34665.564866  35287.779766  2.492431e+10  6.615748e+11  \n",
       "2021-07-05 23:59:59  35284.344430  33746.002456  2.672155e+10  6.326962e+11  \n",
       "2021-07-06 23:59:59  33723.509655  34235.193451  2.650126e+10  6.418992e+11  \n",
       "\n",
       "[2991 rows x 9 columns]"
      ]
     },
     "execution_count": 17,
     "metadata": {},
     "output_type": "execute_result"
    }
   ],
   "source": [
    "btc"
   ]
  },
  {
   "cell_type": "code",
   "execution_count": 21,
   "id": "9cd92282-d8d8-404c-b3df-f3320b31ee3c",
   "metadata": {},
   "outputs": [
    {
     "data": {
      "text/plain": [
       "Index(['2013-04-29 23:59:59', '2013-04-30 23:59:59', '2013-05-01 23:59:59',\n",
       "       '2013-05-02 23:59:59', '2013-05-03 23:59:59', '2013-05-04 23:59:59',\n",
       "       '2013-05-05 23:59:59', '2013-05-06 23:59:59', '2013-05-07 23:59:59',\n",
       "       '2013-05-08 23:59:59',\n",
       "       ...\n",
       "       '2021-06-27 23:59:59', '2021-06-28 23:59:59', '2021-06-29 23:59:59',\n",
       "       '2021-06-30 23:59:59', '2021-07-01 23:59:59', '2021-07-02 23:59:59',\n",
       "       '2021-07-03 23:59:59', '2021-07-04 23:59:59', '2021-07-05 23:59:59',\n",
       "       '2021-07-06 23:59:59'],\n",
       "      dtype='object', name='Date', length=2991)"
      ]
     },
     "execution_count": 21,
     "metadata": {},
     "output_type": "execute_result"
    }
   ],
   "source": [
    "btc.index"
   ]
  },
  {
   "cell_type": "code",
   "execution_count": 23,
   "id": "2bb8bd8d-84f4-4836-9f94-8c3ebb1a4f08",
   "metadata": {},
   "outputs": [
    {
     "data": {
      "text/plain": [
       "Date\n",
       "2013-04-29 23:59:59      147.488007\n",
       "2013-04-30 23:59:59      146.929993\n",
       "2013-05-01 23:59:59      139.889999\n",
       "2013-05-02 23:59:59      125.599998\n",
       "2013-05-03 23:59:59      108.127998\n",
       "                           ...     \n",
       "2021-07-02 23:59:59    33939.588699\n",
       "2021-07-03 23:59:59    34909.259899\n",
       "2021-07-04 23:59:59    35937.567147\n",
       "2021-07-05 23:59:59    35284.344430\n",
       "2021-07-06 23:59:59    35038.536363\n",
       "Name: High, Length: 2991, dtype: float64"
      ]
     },
     "execution_count": 23,
     "metadata": {},
     "output_type": "execute_result"
    }
   ],
   "source": [
    "btc.High"
   ]
  },
  {
   "cell_type": "code",
   "execution_count": 25,
   "id": "bdf10469-df5d-4d76-9827-ae99ec98b286",
   "metadata": {},
   "outputs": [
    {
     "data": {
      "text/plain": [
       "<Axes: xlabel='Date'>"
      ]
     },
     "execution_count": 25,
     "metadata": {},
     "output_type": "execute_result"
    },
    {
     "data": {
      "image/png": "[encoded data removed]",
      "text/plain": [
       "<Figure size 640x480 with 1 Axes>"
      ]
     },
     "metadata": {},
     "output_type": "display_data"
    }
   ],
   "source": [
    "btc.High.plot()"
   ]
  },
  {
   "cell_type": "code",
   "execution_count": 27,
   "id": "148fcb89-ea67-4cd1-bb22-5d3948e849b9",
   "metadata": {},
   "outputs": [],
   "source": [
    "btc = pd.read_csv(\"../data/coin_Bitcoin.csv\")"
   ]
  },
  {
   "cell_type": "code",
   "execution_count": 29,
   "id": "c57eb5a7-7ad8-4263-813e-da105f76822f",
   "metadata": {},
   "outputs": [
    {
     "data": {
      "text/plain": [
       "<Axes: >"
      ]
     },
     "execution_count": 29,
     "metadata": {},
     "output_type": "execute_result"
    },
    {
     "data": {
      "image/png": "[encoded data removed]",
      "text/plain": [
       "<Figure size 640x480 with 1 Axes>"
      ]
     },
     "metadata": {},
     "output_type": "display_data"
    }
   ],
   "source": [
    "btc.plot()"
   ]
  },
  {
   "cell_type": "code",
   "execution_count": 31,
   "id": "2cb81096-628d-47e4-baa6-d22b7a076b2e",
   "metadata": {},
   "outputs": [],
   "source": [
    "countries = pd.read_csv(\"../data/world-happiness-report-2021.csv\")"
   ]
  },
  {
   "cell_type": "code",
   "execution_count": 35,
   "id": "e5f2b5bd-d8b4-466b-9a4b-2ac400388c2d",
   "metadata": {},
   "outputs": [
    {
     "data": {
      "text/plain": [
       "0      72.000\n",
       "1      72.700\n",
       "2      74.400\n",
       "3      73.000\n",
       "4      72.400\n",
       "        ...  \n",
       "144    48.700\n",
       "145    59.269\n",
       "146    61.400\n",
       "147    56.201\n",
       "148    52.493\n",
       "Name: Healthy life expectancy, Length: 149, dtype: float64"
      ]
     },
     "execution_count": 35,
     "metadata": {},
     "output_type": "execute_result"
    }
   ],
   "source": [
    "countries[\"Healthy life expectancy\"]"
   ]
  },
  {
   "cell_type": "code",
   "execution_count": 39,
   "id": "bb053981-88d0-4d16-9ae1-2c441fae6822",
   "metadata": {},
   "outputs": [],
   "source": [
    "countries.set_index(\"Country name\", inplace=True)"
   ]
  },
  {
   "cell_type": "code",
   "execution_count": 43,
   "id": "82e274cb-d275-40d2-88a6-a5d48903e4cd",
   "metadata": {},
   "outputs": [
    {
     "data": {
      "text/plain": [
       "Country name\n",
       "Finland        72.000\n",
       "Denmark        72.700\n",
       "Switzerland    74.400\n",
       "Iceland        73.000\n",
       "Netherlands    72.400\n",
       "                ...  \n",
       "Lesotho        48.700\n",
       "Botswana       59.269\n",
       "Rwanda         61.400\n",
       "Zimbabwe       56.201\n",
       "Afghanistan    52.493\n",
       "Name: Healthy life expectancy, Length: 149, dtype: float64"
      ]
     },
     "execution_count": 43,
     "metadata": {},
     "output_type": "execute_result"
    }
   ],
   "source": [
    "countries[\"Healthy life expectancy\"]"
   ]
  },
  {
   "cell_type": "code",
   "execution_count": null,
   "id": "507f1fd7-61fa-4675-b28b-f3c23c264976",
   "metadata": {},
   "outputs": [],
   "source": []
  },
  {
   "cell_type": "code",
   "execution_count": null,
   "id": "93f600db-5775-4457-b19b-a6cb4514736e",
   "metadata": {},
   "outputs": [],
   "source": []
  },
  {
   "cell_type": "code",
   "execution_count": null,
   "id": "50cd6904-d94c-431c-9575-8cb92effc886",
   "metadata": {},
   "outputs": [],
   "source": []
  }
 ],
 "metadata": {
  "kernelspec": {
   "display_name": "Python 3 (ipykernel)",
   "language": "python",
   "name": "python3"
  },
  "language_info": {
   "codemirror_mode": {
    "name": "ipython",
    "version": 3
   },
   "file_extension": ".py",
   "mimetype": "text/x-python",
   "name": "python",
   "nbconvert_exporter": "python",
   "pygments_lexer": "ipython3",
   "version": "3.12.4"
  }
 },
 "nbformat": 4,
 "nbformat_minor": 5
}
